{
 "cells": [
  {
   "cell_type": "code",
   "execution_count": 13,
   "metadata": {},
   "outputs": [],
   "source": [
    "import ipytest\n",
    "ipytest.autoconfig()"
   ]
  },
  {
   "cell_type": "code",
   "execution_count": 14,
   "metadata": {},
   "outputs": [],
   "source": [
    "def hello_world():\n",
    "    return \"Hello World!\""
   ]
  },
  {
   "cell_type": "code",
   "execution_count": 15,
   "metadata": {},
   "outputs": [],
   "source": [
    "def test_hello_2():\n",
    "    assert hello_world() == \"Hello World!\""
   ]
  },
  {
   "cell_type": "code",
   "execution_count": 16,
   "metadata": {},
   "outputs": [],
   "source": [
    "def test_hello():\n",
    "    assert hello_world() == \"Hello!\""
   ]
  },
  {
   "cell_type": "code",
   "execution_count": 17,
   "metadata": {},
   "outputs": [
    {
     "name": "stdout",
     "output_type": "stream",
     "text": [
      "\u001b[1m======================================= test session starts ========================================\u001b[0m\n",
      "platform linux -- Python 3.11.9, pytest-8.2.1, pluggy-1.5.0 -- /home/alvaro/anaconda3/envs/test/bin/python\n",
      "cachedir: .pytest_cache\n",
      "rootdir: /mnt/c/Users/alvlopez/Documents/tests/Github Classroom\n",
      "\u001b[1mcollecting ... \u001b[0m"
     ]
    },
    {
     "name": "stdout",
     "output_type": "stream",
     "text": [
      "collected 2 items\n",
      "\n",
      "t_3ed27cee3d9847699bafaf4d07d3047a.py::test_hello \u001b[31mFAILED\u001b[0m\u001b[31m                                     [ 50%]\u001b[0m\n",
      "t_3ed27cee3d9847699bafaf4d07d3047a.py::test_hello_2 \u001b[32mPASSED\u001b[0m\u001b[31m                                   [100%]\u001b[0m\n",
      "\n",
      "============================================= FAILURES =============================================\n",
      "\u001b[31m\u001b[1m____________________________________________ test_hello ____________________________________________\u001b[0m\n",
      "\n",
      "    \u001b[0m\u001b[94mdef\u001b[39;49;00m \u001b[92mtest_hello\u001b[39;49;00m():\u001b[90m\u001b[39;49;00m\n",
      ">       \u001b[94massert\u001b[39;49;00m hello_world() == \u001b[33m\"\u001b[39;49;00m\u001b[33mHello!\u001b[39;49;00m\u001b[33m\"\u001b[39;49;00m\u001b[90m\u001b[39;49;00m\n",
      "\u001b[1m\u001b[31mE       AssertionError: assert 'Hello World!' == 'Hello!'\u001b[0m\n",
      "\u001b[1m\u001b[31mE         \u001b[0m\n",
      "\u001b[1m\u001b[31mE         - Hello!\u001b[0m\n",
      "\u001b[1m\u001b[31mE         + Hello World!\u001b[0m\n",
      "\n",
      "\u001b[1m\u001b[31m/tmp/ipykernel_58665/3213981629.py\u001b[0m:2: AssertionError\n",
      "\u001b[36m\u001b[1m===================================== short test summary info ======================================\u001b[0m\n",
      "\u001b[31mFAILED\u001b[0m t_3ed27cee3d9847699bafaf4d07d3047a.py::\u001b[1mtest_hello\u001b[0m - AssertionError: assert 'Hello World!' == 'Hello!'\n",
      "\u001b[31m=================================== \u001b[31m\u001b[1m1 failed\u001b[0m, \u001b[32m1 passed\u001b[0m\u001b[31m in 0.05s\u001b[0m\u001b[31m ====================================\u001b[0m\n"
     ]
    },
    {
     "data": {
      "text/plain": [
       "<ExitCode.TESTS_FAILED: 1>"
      ]
     },
     "execution_count": 17,
     "metadata": {},
     "output_type": "execute_result"
    }
   ],
   "source": [
    "ipytest.run('-vv')"
   ]
  },
  {
   "cell_type": "code",
   "execution_count": null,
   "metadata": {},
   "outputs": [],
   "source": []
  }
 ],
 "metadata": {
  "kernelspec": {
   "display_name": "test",
   "language": "python",
   "name": "python3"
  },
  "language_info": {
   "codemirror_mode": {
    "name": "ipython",
    "version": 3
   },
   "file_extension": ".py",
   "mimetype": "text/x-python",
   "name": "python",
   "nbconvert_exporter": "python",
   "pygments_lexer": "ipython3",
   "version": "3.11.9"
  }
 },
 "nbformat": 4,
 "nbformat_minor": 2
}
